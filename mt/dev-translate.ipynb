{
 "cells": [
  {
   "cell_type": "code",
   "execution_count": null,
   "metadata": {},
   "outputs": [],
   "source": [
    "import random\n",
    "from langchain import PromptTemplate, FewShotPromptTemplate"
   ]
  },
  {
   "cell_type": "code",
   "execution_count": null,
   "metadata": {},
   "outputs": [],
   "source": [
    "from datasets import load_dataset\n",
    "\n",
    "dataset = load_dataset(\"wmt19\",\"de-en\")"
   ]
  },
  {
   "cell_type": "code",
   "execution_count": null,
   "metadata": {},
   "outputs": [],
   "source": [
    "import random\n",
    "sid = random.sample(range(len(dataset[\"train\"])), k=5)"
   ]
  },
  {
   "cell_type": "code",
   "execution_count": null,
   "metadata": {},
   "outputs": [],
   "source": [
    "dataset[\"train\"][0]"
   ]
  },
  {
   "cell_type": "code",
   "execution_count": null,
   "metadata": {},
   "outputs": [],
   "source": [
    "pair = \"de-en\"\n",
    "src_lang, tgt_lang = pair.split(\"-\")"
   ]
  },
  {
   "cell_type": "code",
   "execution_count": null,
   "metadata": {},
   "outputs": [],
   "source": [
    "# examples = [\n",
    "#     {\n",
    "#         \"src_lang\": \"en\",\n",
    "#         \"src\": \"Hello\",\n",
    "#         \"tgt_lang\": \"fr\",\n",
    "#         \"ref\": \"Bonjour\"\n",
    "#     },\n",
    "#     {\n",
    "#         \"src_lang\": \"en\",\n",
    "#         \"src\": \"Goodbye\",\n",
    "#         \"tgt_lang\": \"fr\",\n",
    "#         \"ref\": \"Au revoir\"\n",
    "#     }\n",
    "# ]\n",
    "examples = [\n",
    "    {\n",
    "        \"src_lang\": src_lang,\n",
    "        \"src\": sample[src_lang],\n",
    "        \"tgt_lang\": tgt_lang,\n",
    "        \"ref\": sample[tgt_lang]\n",
    "    }\n",
    "    for sample in random.sample(dataset[\"train\"], k=5)\n",
    "]\n",
    "example_prompt = PromptTemplate(\n",
    "    template=\"{src_lang}: {src}\\n{tgt_lang}:{ref}\",\n",
    "    input_variables = [\"src_lang\", \"src\", \"tgt_lang\", \"ref\"],\n",
    ")\n",
    "few_shot_prompt = FewShotPromptTemplate(\n",
    "    examples=examples,\n",
    "    example_prompt=example_prompt,\n",
    "    # prefix=\"Give the antonym of every input\",\n",
    "\n",
    "    suffix=\"{src_lang}: {src}\\n{tgt_lang}:\",\n",
    "    input_variables=[\"src_lang\", \"src\", \"tgt_lang\"],\n",
    "    example_separator=\"\\n\",\n",
    ")\n",
    "print(few_shot_prompt.format(\n",
    "    src_lang=\"en\",\n",
    "    src=\"Hello\",\n",
    "    tgt_lang=\"fr\",\n",
    "))"
   ]
  },
  {
   "cell_type": "code",
   "execution_count": null,
   "metadata": {},
   "outputs": [],
   "source": [
    "import pandas as pd\n",
    "\n",
    "df = pd.read_csv(\"./data/wmt19_en-de.csv\")"
   ]
  },
  {
   "cell_type": "code",
   "execution_count": null,
   "metadata": {},
   "outputs": [],
   "source": [
    "for i, row in df.iterrows():\n",
    "    prompt = row[\"input\"]\n",
    "    # encoded_prompt = tokenizer.encode(prompt, bos=True, eos=False, device=fabric.device)\n",
    "    # y = generate(\n",
    "    #         model,\n",
    "    #         encoded_prompt,\n",
    "    #         max_new_tokens,\n",
    "    #         model.config.block_size,  # type: ignore[union-attr,arg-type]\n",
    "    #         temperature=temperature,\n",
    "    #         top_k=top_k,\n",
    "    #     )\n",
    "    y = \"kek\"\n",
    "    df.loc[i, \"mt\"] = y\n",
    "df.to_csv(\"./data/wmt19_en-de_translated.csv\", index=False)\n",
    "\n",
    "    "
   ]
  },
  {
   "cell_type": "code",
   "execution_count": null,
   "metadata": {},
   "outputs": [],
   "source": [
    "df"
   ]
  }
 ],
 "metadata": {
  "kernelspec": {
   "display_name": "codenames",
   "language": "python",
   "name": "python3"
  },
  "language_info": {
   "codemirror_mode": {
    "name": "ipython",
    "version": 3
   },
   "file_extension": ".py",
   "mimetype": "text/x-python",
   "name": "python",
   "nbconvert_exporter": "python",
   "pygments_lexer": "ipython3",
   "version": "3.9.5"
  },
  "orig_nbformat": 4
 },
 "nbformat": 4,
 "nbformat_minor": 2
}
