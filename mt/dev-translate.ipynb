{
 "cells": [
  {
   "cell_type": "code",
   "execution_count": null,
   "metadata": {},
   "outputs": [],
   "source": [
    "import re\n",
    "import torch\n",
    "import random\n",
    "import pandas as pd\n",
    "from langchain import PromptTemplate, FewShotPromptTemplate\n",
    "from datasets import load_dataset\n",
    "from pathlib import Path\n",
    "\n",
    "import sys\n",
    "if \"..\" not in sys.path:\n",
    "    sys.path.append(\"..\")\n",
    "\n",
    "from lit_llama import LLaMA, Tokenizer"
   ]
  },
  {
   "cell_type": "code",
   "execution_count": null,
   "metadata": {},
   "outputs": [],
   "source": [
    "tokenizer_path = Path(\"../checkpoints/lit-llama/tokenizer.model\")\n",
    "tokenizer = Tokenizer(tokenizer_path)"
   ]
  },
  {
   "cell_type": "code",
   "execution_count": null,
   "metadata": {},
   "outputs": [],
   "source": [
    "tokenizer.encode(\"\\n\")"
   ]
  },
  {
   "cell_type": "code",
   "execution_count": null,
   "metadata": {},
   "outputs": [],
   "source": [
    "tokenizer.decode(torch.tensor([13]))"
   ]
  },
  {
   "cell_type": "code",
   "execution_count": null,
   "metadata": {},
   "outputs": [],
   "source": [
    "tgt_lang = \"en\"\n",
    "src = \"München 1856: Vier Karten, die Ihren Blick auf die Stadt verändern\"\n",
    "text = \"de: Gestern 07:01 TubeWolf kleine tittchen, magersüchtig, doggy style, brünette, schönheit, erotik, reiten\\nen:Yesterday 07:01 TubeWolf small tits, skinny, dogging, brunette, beauty, erotic, riding\\nde: Uhr Visby fü Ihre Webseite\\nen:Get Visby Clock for your website\\nde: München 1856: Vier Karten, die Ihren Blick auf die Stadt verändern\\nen:Munich 1856: Four cards that change the way you see the city\\nde:shds\"\n",
    "# match everything between \"de:\" and \"\\n$\"\n",
    "\n",
    "\n",
    "re.search(f\"{src}\\n{tgt_lang}:(.*)\\n\",text).group(1)"
   ]
  },
  {
   "cell_type": "code",
   "execution_count": null,
   "metadata": {},
   "outputs": [],
   "source": [
    "\n",
    "dataset = load_dataset(\"wmt19\",\"de-en\")"
   ]
  },
  {
   "cell_type": "code",
   "execution_count": null,
   "metadata": {},
   "outputs": [],
   "source": [
    "import random\n",
    "sid = random.sample(range(len(dataset[\"train\"])), k=5)"
   ]
  },
  {
   "cell_type": "code",
   "execution_count": null,
   "metadata": {},
   "outputs": [],
   "source": [
    "dataset[\"train\"][0]"
   ]
  },
  {
   "cell_type": "code",
   "execution_count": null,
   "metadata": {},
   "outputs": [],
   "source": [
    "pair = \"de-en\"\n",
    "src_lang, tgt_lang = pair.split(\"-\")"
   ]
  },
  {
   "cell_type": "code",
   "execution_count": null,
   "metadata": {},
   "outputs": [],
   "source": [
    "\n",
    "\n",
    "df = pd.read_csv(\"./data/wmt19_en-de_translation.csv\")"
   ]
  },
  {
   "cell_type": "code",
   "execution_count": null,
   "metadata": {},
   "outputs": [],
   "source": [
    "from sacrebleu import sentence_bleu, sentence_chrf\n"
   ]
  },
  {
   "cell_type": "code",
   "execution_count": null,
   "metadata": {},
   "outputs": [],
   "source": [
    "df['bleu'] = [sentence_bleu(hyp, [ref]).score for hyp, ref\n",
    "                              in zip(df['mt'],\n",
    "                                     df['ref'])]\n",
    "df['chrf'] = [sentence_chrf(hyp, [ref]).score for hyp, ref\n",
    "                              in zip(df['mt'],\n",
    "                                     df['ref'])]"
   ]
  },
  {
   "cell_type": "code",
   "execution_count": null,
   "metadata": {},
   "outputs": [],
   "source": [
    "data = [\n",
    "    {\n",
    "        \"src\":src,\n",
    "        \"ref\":ref,\n",
    "        \"mt\":mt,\n",
    "    }\n",
    "    for src, ref, mt in zip(df['src'],df['ref'],df['mt'])\n",
    "]"
   ]
  },
  {
   "cell_type": "code",
   "execution_count": null,
   "metadata": {},
   "outputs": [],
   "source": [
    "from comet import download_model, load_from_checkpoint\n",
    "\n",
    "model_path = download_model(\"Unbabel/wmt22-comet-da\")\n",
    "model = load_from_checkpoint(model_path)\n",
    "model_output = model.predict(data, batch_size=8, gpus=1)\n",
    "df['wmt22-comet-da'] = model_output.scores"
   ]
  },
  {
   "cell_type": "code",
   "execution_count": null,
   "metadata": {},
   "outputs": [],
   "source": [
    "df"
   ]
  },
  {
   "cell_type": "code",
   "execution_count": null,
   "metadata": {},
   "outputs": [],
   "source": [
    "# average the columns bleu, chrf and wmt22-comet-da\n",
    "results = {\n",
    "    \"translated\":\".mt/data/wmt19_en-de_translated.csv\",\n",
    "    \"bleu\":df['bleu'].mean(),\n",
    "    \"chrf\":df['chrf'].mean(),\n",
    "    \"wmt22-comet-da\":df['wmt22-comet-da'].mean(),\n",
    "}\n",
    "# save dict to .json file\n",
    "import json\n",
    "with open(\"./mt/wmt19_en-de_results.json\", \"w\") as f:\n",
    "    json.dump(results, f, indent=4)"
   ]
  },
  {
   "cell_type": "code",
   "execution_count": null,
   "metadata": {},
   "outputs": [],
   "source": [
    "df_results"
   ]
  },
  {
   "cell_type": "code",
   "execution_count": null,
   "metadata": {},
   "outputs": [],
   "source": []
  }
 ],
 "metadata": {
  "kernelspec": {
   "display_name": "codenames",
   "language": "python",
   "name": "python3"
  },
  "language_info": {
   "codemirror_mode": {
    "name": "ipython",
    "version": 3
   },
   "file_extension": ".py",
   "mimetype": "text/x-python",
   "name": "python",
   "nbconvert_exporter": "python",
   "pygments_lexer": "ipython3",
   "version": "3.8.10"
  },
  "orig_nbformat": 4
 },
 "nbformat": 4,
 "nbformat_minor": 2
}
